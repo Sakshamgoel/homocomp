{
  "nbformat": 4,
  "nbformat_minor": 0,
  "metadata": {
    "colab": {
      "provenance": [],
      "authorship_tag": "ABX9TyOQdQYslJEy4/Rd/X5tbFNz",
      "include_colab_link": true
    },
    "kernelspec": {
      "name": "python3",
      "display_name": "Python 3"
    },
    "language_info": {
      "name": "python"
    }
  },
  "cells": [
    {
      "cell_type": "markdown",
      "metadata": {
        "id": "view-in-github",
        "colab_type": "text"
      },
      "source": [
        "<a href=\"https://colab.research.google.com/github/Sakshamgoel/homocomp/blob/main/homocomp2.ipynb\" target=\"_parent\"><img src=\"https://colab.research.google.com/assets/colab-badge.svg\" alt=\"Open In Colab\"/></a>"
      ]
    },
    {
      "cell_type": "code",
      "source": [
        "!pip install scikit-bio\n",
        "!pip install scipy\n",
        "!pip install pyabpoa\n",
        "!pip install plotnine"
      ],
      "metadata": {
        "id": "YM9sYB2y0Hz5"
      },
      "execution_count": null,
      "outputs": []
    },
    {
      "cell_type": "code",
      "source": [
        "import numpy as np\n",
        "import pyabpoa as pa\n",
        "from skbio.alignment import global_pairwise_align_nucleotide\n",
        "from skbio import TabularMSA, DNA\n",
        "import statistics\n",
        "\n",
        "import pandas as pd\n",
        "\n",
        "import matplotlib.pyplot as plt\n",
        "from plotnine import *\n",
        "from plotnine.data import *"
      ],
      "metadata": {
        "id": "lA1C2RDG0k27"
      },
      "execution_count": 2,
      "outputs": []
    },
    {
      "cell_type": "code",
      "source": [
        "# Generates a random sequence of basepairs of length 'n'\n",
        "def generate_sequence(n):\n",
        "    return(\"\".join(np.random.choice([\"A\",\"C\",\"G\",\"T\"], n)))\n",
        "\n",
        "# Mutates the string to introduce mismatches and indels\n",
        "def mutate(str, snp_rate = 0.1, indel_rate = 0.1):\n",
        "    x = [c for c in str]\n",
        "    i = 0\n",
        "    while i < len(x):\n",
        "        if np.random.random() < snp_rate:\n",
        "            x[i] = generate_sequence(1)\n",
        "        if np.random.random() < indel_rate:\n",
        "            length = np.random.geometric(0.5)\n",
        "            if np.random.random() < 0.5: # insertion\n",
        "                x[i] = x[i] + generate_sequence(length)\n",
        "            else:\n",
        "                for j in range(i,i+length):\n",
        "                    if j < len(x):\n",
        "                        x[j] = \"\"\n",
        "                        i += 1\n",
        "        i += 1\n",
        "    return(\"\".join(x))"
      ],
      "metadata": {
        "id": "DNi3jS990O4q"
      },
      "execution_count": 3,
      "outputs": []
    },
    {
      "cell_type": "code",
      "execution_count": 4,
      "metadata": {
        "id": "Ul568El4L61d"
      },
      "outputs": [],
      "source": [
        "'''\n",
        "Function to compress a given sequence string into individual unique BasePairs and their corresponding frequencies\n",
        "@param sequence: string of a dna sequence\n",
        "@return tuple:\n",
        "   - Index 0: list of individual base pairs\n",
        "   - Index 1: list of corresponding frequencies of the base pairs\n",
        "'''\n",
        "def homoCompress(sequence):\n",
        "  # Compressed Sequence string that stores individual unique base pairs\n",
        "  compressedSequence = ''\n",
        "  # List that stores corresponding frequencies\n",
        "  frequencies = []\n",
        "\n",
        "  # For each character:\n",
        "  #   if it is not seen before, append it to the basePairs list and set its frequency to 1\n",
        "  #   else if it is seen before, just append its frequency by 1\n",
        "  currentChar = None\n",
        "  for char in sequence:\n",
        "    if not currentChar or currentChar != char:\n",
        "      currentChar = char\n",
        "      compressedSequence += currentChar\n",
        "      frequencies.append(1)\n",
        "    else:\n",
        "      frequencies[len(frequencies) - 1] += 1\n",
        "\n",
        "  return(compressedSequence, frequencies)"
      ]
    },
    {
      "cell_type": "code",
      "source": [
        "'''\n",
        "Function that returns compressed sequences\n",
        "@param sequences: list of uncompressed sequences\n",
        "@return list of compressed sequences\n",
        "'''\n",
        "def compressSequences(sequences):\n",
        "  compressedSequences = []\n",
        "  compressedSequenceFrequencies = []\n",
        "    \n",
        "  for sequence in sequences:\n",
        "      homoCompressTuple = homoCompress(sequence)\n",
        "      compressedSequences.append(homoCompressTuple[0])\n",
        "      compressedSequenceFrequencies.append(homoCompressTuple[1])\n",
        "  return(compressedSequences, compressedSequenceFrequencies)"
      ],
      "metadata": {
        "id": "brBwHeZz_YF9"
      },
      "execution_count": 5,
      "outputs": []
    },
    {
      "cell_type": "code",
      "source": [
        "'''\n",
        "Function to get the consensus sequence from a list of sequences\n",
        "@param sequences: list of string of individual sequences\n",
        "@return string of consensus sequence\n",
        "'''\n",
        "def partialOrderAlignment(sequences):    \n",
        "    msaAlignerObject = pa.msa_aligner()\n",
        "\n",
        "    # perform multiple sequence alignment\n",
        "    # generate a figure of alignment graph to pog.png\n",
        "    multipleSequenceAlignment = msaAlignerObject.msa(sequences, out_cons=True, out_msa=True, out_pog='pog.png', incr_fn='') \n",
        "\n",
        "    return(multipleSequenceAlignment.cons_seq[0])"
      ],
      "metadata": {
        "id": "32Uc_Eiw22Ms"
      },
      "execution_count": 6,
      "outputs": []
    },
    {
      "cell_type": "code",
      "source": [
        "'''\n",
        "Global Alignment function\n",
        "\n",
        "@param sequence1: string first sequence to align\n",
        "@param sequence2: string second sequence to align\n",
        "\n",
        "Penalty scores:-\n",
        "- Mismatch: -1\n",
        "- Match: 1\n",
        "- Indel: -2\n",
        "\n",
        "For backtrace:-\n",
        "- First Element: -1\n",
        "- Diagonal: 0\n",
        "- Left: 1\n",
        "- Up: 2\n",
        "\n",
        "@return: a tuple the global alignment of both the sequences and the alignment score\n",
        "'''\n",
        "def globalAlignment(sequence1, sequence2):\n",
        "  # Penalty values\n",
        "  indel = -2\n",
        "  mismatch = -1\n",
        "  match = 1\n",
        "  \n",
        "  # Matrix initialization\n",
        "  m = len(sequence1)\n",
        "  n = len(sequence2)\n",
        "  matrix = [[0 for i in range(n + 1)] for j in range(m + 1)]\n",
        "  backtrace = [[0 for i in range(n + 1)] for j in range(m + 1)]\n",
        "\n",
        "  # Initializing first row and first column to indel values\n",
        "  for i in range(m + 1):\n",
        "    matrix[i][0] = i * indel\n",
        "    backtrace[i][0] = 2\n",
        "  for j in range(n + 1):\n",
        "    matrix[0][j] = j * indel\n",
        "    backtrace[0][j] = 1\n",
        "  backtrace[0][0] = -1\n",
        "\n",
        "  # The actual dp\n",
        "  for i in range(1, m + 1):\n",
        "    for j in range(1, n + 1):\n",
        "      if sequence1[i - 1] == sequence2[j - 1]:        # match\n",
        "        matrix[i][j] = matrix[i - 1][j - 1] + match\n",
        "      else:                                           # mismatch\n",
        "        matrix[i][j] = matrix[i - 1][j - 1] + mismatch\n",
        "\n",
        "      if matrix[i][j] < (matrix[i][j - 1] + indel):   # indel\n",
        "        matrix[i][j] = matrix[i][j - 1] + indel\n",
        "        backtrace[i][j] = 1\n",
        "      elif matrix[i][j] < (matrix[i - 1][j] + indel): # indel\n",
        "         matrix[i][j] = (matrix[i - 1][j] + indel)\n",
        "         backtrace[i][j] = 2\n",
        "  \n",
        "  alignmentScore = matrix[m][n] \n",
        "\n",
        "  # Viterbi BackTrace\n",
        "  currRow = m\n",
        "  currCol = n\n",
        "\n",
        "  alignedSequence1 = ''\n",
        "  alignedSequence2 = ''\n",
        "\n",
        "  while backtrace[currRow][currCol] != -1:\n",
        "    if backtrace[currRow][currCol] == 0:\n",
        "      alignedSequence1 += sequence1[currRow - 1]\n",
        "      alignedSequence2 += sequence2[currCol - 1]\n",
        "      currRow -= 1\n",
        "      currCol -= 1\n",
        "    elif backtrace[currRow][currCol] == 1:\n",
        "      alignedSequence1 += '-'\n",
        "      alignedSequence2 += sequence2[currCol - 1]\n",
        "      currCol -= 1\n",
        "    elif backtrace[currRow][currCol] == 2:\n",
        "      alignedSequence1 += sequence1[currRow - 1]\n",
        "      alignedSequence2 += '-'\n",
        "      currRow -= 1\n",
        "\n",
        "  # Reversing the aligned strings as they are the reverse of true alignment because of backtracing\n",
        "  alignedSequence1 = alignedSequence1[::-1]\n",
        "  alignedSequence2 = alignedSequence2[::-1]\n",
        "\n",
        "  return (alignedSequence1, alignedSequence2, alignmentScore)"
      ],
      "metadata": {
        "id": "RRb4fZMgBFit"
      },
      "execution_count": 7,
      "outputs": []
    },
    {
      "cell_type": "code",
      "source": [
        "'''\n",
        "Pairwise Alignment Function\n",
        "@param sequences: a list of string sequences that derive from the consensus sequence\n",
        "@param consensusSequence: the consensusSequence obtained from partial order alignment\n",
        "\n",
        "@return alignedSequences: a list of tuples, where:\n",
        "  Index 0: Pairwise alignment of the consensus sequence\n",
        "  Index 1: Pairwise alignment of the sequence\n",
        "  Index 2: Alignment score of this specific Pairwise Alignment\n",
        "'''\n",
        "def pairwiseAlignment(sequences, consensusSequence):\n",
        "  alignedSequences = []\n",
        "  for sequence in sequences:\n",
        "    alignment = globalAlignment(consensusSequence, sequence)\n",
        "    alignedSequences.append(alignment)\n",
        "  return alignedSequences"
      ],
      "metadata": {
        "id": "bT07ZgGBi4t5"
      },
      "execution_count": 8,
      "outputs": []
    },
    {
      "cell_type": "code",
      "source": [
        "'''\n",
        "Expand Consensus Sequence using Mean, Median, or mode\n",
        "\n",
        "This function expands the compressed consensus sequence by using one of the metric mentioned above\n",
        "and compares the specific base pair in the consensus sequence's location to the one associated in the different\n",
        "compressed sequences\n",
        "\n",
        "@param alignedSequences: the list of tuples of aligned sequences where:\n",
        "                                    - Index 0 is the consensus sequence part of the alignment\n",
        "                                    - Index 1 is the regular sequence part of the alignment\n",
        "@param compressedSequenceFrequences: the list of unique base pair frequencies for each of the sequences aligned\n",
        "@param consensusSequence: the string of compressed consensus sequence obtained\n",
        "@param metric: an int referring to the metric to be used for computation of expanded consensus sequence\n",
        "                                    - 0 for mean (default)\n",
        "                                    - 1 for median\n",
        "                                    - 2 for mode\n",
        "'''\n",
        "\n",
        "def expandConsensus(alignedSequences, compressedSequenceFrequencies, consensusSequence, metric = 0):\n",
        "  arr = []\n",
        "  for alignment in alignedSequences:\n",
        "    alignPointerArr = []\n",
        "    \n",
        "    alignedConsensus = alignment[0]\n",
        "    normalSequence = alignment[1]\n",
        "\n",
        "    alignPointer = 0\n",
        "\n",
        "    for i in range(len(alignedConsensus)):\n",
        "      if alignedConsensus[i] == '-':\n",
        "        alignPointer += 1\n",
        "      elif normalSequence[i] == '-':\n",
        "        alignPointerArr.append(-1)\n",
        "      elif alignedConsensus[i] == normalSequence[i]:\n",
        "        alignPointerArr.append(alignPointer)\n",
        "        alignPointer += 1\n",
        "      else:\n",
        "        alignPointerArr.append(-1)\n",
        "        alignPointer += 1\n",
        "\n",
        "    arr.append(alignPointerArr)\n",
        "\n",
        "  expandedConsensus = \"\"\n",
        "\n",
        "  for i in range(len(consensusSequence)):\n",
        "    countArray = []\n",
        "\n",
        "    for (j, alignment) in enumerate(alignedSequences):\n",
        "      if arr[j][i] != -1:\n",
        "        countArray.append(compressedSequenceFrequencies[j][arr[j][i]])\n",
        "    \n",
        "    snippetLength = 0\n",
        "    if len(countArray) > 0:\n",
        "      if metric == 0:\n",
        "        snippetLength = round(statistics.mean(countArray))\n",
        "      elif metric == 1:\n",
        "        snippetLength = int(statistics.median(countArray))\n",
        "      else:\n",
        "        snippetLength = int(statistics.mode(countArray))\n",
        "\n",
        "    for k in range(snippetLength):\n",
        "      expandedConsensus += consensusSequence[i]\n",
        "  return expandedConsensus\n"
      ],
      "metadata": {
        "id": "CeCRJASlO_Gp"
      },
      "execution_count": 9,
      "outputs": []
    },
    {
      "cell_type": "code",
      "source": [
        "'''\n",
        "Function to calculate score of the expanded HomoComp consensus Sequence\n",
        "We globally align the expanded consensus sequence to every mutation sequence and get the average score of it\n",
        "'''\n",
        "def calculateScore(sequences, expandedConsensusSequence):\n",
        "  num = 0\n",
        "  for sequence in sequences:\n",
        "    alignment = globalAlignment(sequence, expandedConsensusSequence)\n",
        "    num += alignment[2]\n",
        "  return num / len(sequences)"
      ],
      "metadata": {
        "id": "7Z0vBWOglZ_B"
      },
      "execution_count": 10,
      "outputs": []
    },
    {
      "cell_type": "code",
      "source": [
        "'''\n",
        "Function that runs a single iteration of the entire simulation\n",
        "\n",
        "@param iterationCount: the number of iterations we run the algorithm for\n",
        "@param mutatedSequenceCount: the number of mutated sequences that will be generated\n",
        "@param sequenceLength: the length of the base Sequence that will be generated\n",
        "\n",
        "@return result: a dictionary with following keys:-\n",
        "                - 'uncompressedConsensus': a dictionary with following key and values:-\n",
        "                                          - 'sequence': string value of the uncompressed consensus sequence found\n",
        "                                          - 'score': decimal value of the score of consensus sequence\n",
        "                - 'meanConsensus': a dictionary with following key and values:-\n",
        "                                          - 'sequence': string value of the mean consensus sequence found\n",
        "                                          - 'score': decimal value of the score of consensus sequence\n",
        "                - 'medianConsensus': a dictionary with following key and values:-\n",
        "                                          - 'sequence': string value of the median consensus sequence found\n",
        "                                          - 'score': decimal value of the score of consensus sequence\n",
        "                - 'modeConsensus': a dictionary with following key and values:-\n",
        "                                          - 'sequence': string value of the mode consensus sequence found\n",
        "                                          - 'score': decimal value of the score of consensus sequence\n",
        "'''\n",
        "def singleIteration(mutatedSequenceCount = 10, sequenceLength = 100):\n",
        "\n",
        "  baseSequence = generate_sequence(sequenceLength)\n",
        "  \n",
        "  sequences = []\n",
        "  for i in range(mutatedSequenceCount):\n",
        "    tempSequence = mutate(baseSequence)\n",
        "    sequences.append(tempSequence)\n",
        "  \n",
        "  uncompressedConsensusSequence = partialOrderAlignment(sequences)\n",
        "\n",
        "  compressedSequencesTuple = compressSequences(sequences)\n",
        "\n",
        "  compressedSequences = compressedSequencesTuple[0]\n",
        "  compressedSequenceFrequencies = compressedSequencesTuple[1]\n",
        "  \n",
        "  compressedConsensusSequence = partialOrderAlignment(compressedSequences)\n",
        "  alignedSequences = pairwiseAlignment(compressedSequences, compressedConsensusSequence)\n",
        "  expandedConsensusSequenceUsingMean = expandConsensus(alignedSequences, compressedSequenceFrequencies, compressedConsensusSequence, 0)\n",
        "  expandedConsensusSequenceUsingMedian = expandConsensus(alignedSequences, compressedSequenceFrequencies, compressedConsensusSequence, 1)\n",
        "  expandedConsensusSequenceUsingMode = expandConsensus(alignedSequences, compressedSequenceFrequencies, compressedConsensusSequence, 2)\n",
        "\n",
        "  uncompressedConsensusScore = calculateScore(sequences, uncompressedConsensusSequence)\n",
        "\n",
        "  meanConsensusScore = calculateScore(sequences, expandedConsensusSequenceUsingMean)\n",
        "  medianConsensusScore = calculateScore(sequences, expandedConsensusSequenceUsingMedian)\n",
        "  modeConsensusScore = calculateScore(sequences, expandedConsensusSequenceUsingMode)\n",
        "\n",
        "  result = {}\n",
        "\n",
        "  result['uncompressedConsensus'] = {'sequence': uncompressedConsensusSequence, 'score': uncompressedConsensusScore}\n",
        "  result['meanConsensus'] = {'sequence': expandedConsensusSequenceUsingMean, 'score': meanConsensusScore}\n",
        "  result['medianConsensus'] = {'sequence': expandedConsensusSequenceUsingMedian, 'score': medianConsensusScore}\n",
        "  result['modeConsensus'] = {'sequence': expandedConsensusSequenceUsingMode, 'score': modeConsensusScore}\n",
        "\n",
        "  return result  "
      ],
      "metadata": {
        "id": "Xb5nO8__caNc"
      },
      "execution_count": 11,
      "outputs": []
    },
    {
      "cell_type": "code",
      "source": [
        "def main():\n",
        "\n",
        "  uncompressedScore = 0\n",
        "  meanScore = 0\n",
        "  medianScore = 0\n",
        "  modeScore = 0\n",
        "\n",
        "  iterations = 10\n",
        "  for i in range(iterations):\n",
        "\n",
        "    result = singleIteration()\n",
        "\n",
        "    uncompressedScore += result['uncompressedConsensus']['score']\n",
        "    meanScore += result['meanConsensus']['score']\n",
        "    medianScore += result['medianConsensus']['score']\n",
        "    modeScore += result['modeConsensus']['score']\n",
        "\n",
        "    # print('Uncompressed Consensus Sequence: ', result['uncompressedConsensus']['sequence'])\n",
        "    # print('Uncompressed Consensus Sequence score: ', uncompressedScore)\n",
        "\n",
        "    # print('Mean Consensus Sequence: ', result['meanConsensus']['sequence'])\n",
        "    # print('Mean Consensus Sequence score: ', meanScore)\n",
        "\n",
        "    # print('Median Consensus Sequence: ', result['medianConsensus']['sequence'])\n",
        "    # print('Median Consensus Sequence score: ', medianScore)\n",
        "\n",
        "    # print('Mode Consensus Sequence: ', result['modeConsensus']['sequence'])\n",
        "    # print('Mode Consensus Sequence score: ', modeScore)\n",
        "\n",
        "  uncompressedScore = uncompressedScore / iterations\n",
        "  meanScore = meanScore / iterations\n",
        "  medianScore = medianScore / iterations\n",
        "  modeScore = modeScore / iterations\n",
        "\n",
        "  x = ['Uncompressed', 'Mean Expanded', 'Median Expanded', 'Mode Expanded']\n",
        "  y = [uncompressedScore, meanScore, medianScore, modeScore]\n",
        "\n",
        "  df = pd.DataFrame({'x': x, 'y': y})\n",
        "\n",
        "  plotTitle = str(iterations) + ' Iteration Results'\n",
        "\n",
        "  plot = ggplot(df, aes(x = 'x', y='y', fill = x)) + \\\n",
        "    geom_bar(stat='identity') + \\\n",
        "    ggtitle(plotTitle) + \\\n",
        "    xlab('Mean, Median, and Mode variations of Homopolymer Compression v/s Regular POA') + \\\n",
        "    ylab('Score')\n",
        "\n",
        "  print(plot)"
      ],
      "metadata": {
        "id": "NsAl546QyLZq"
      },
      "execution_count": 19,
      "outputs": []
    },
    {
      "cell_type": "code",
      "source": [
        "main()"
      ],
      "metadata": {
        "colab": {
          "base_uri": "https://localhost:8080/",
          "height": 490
        },
        "id": "1WbjrNdVyu2i",
        "outputId": "3c373fa2-ffc9-42be-cf07-baa2d440ec73"
      },
      "execution_count": 18,
      "outputs": [
        {
          "output_type": "display_data",
          "data": {
            "text/plain": [
              "<Figure size 640x480 with 1 Axes>"
            ],
            "image/png": "[encoded data removed]"
          },
          "metadata": {}
        },
        {
          "output_type": "stream",
          "name": "stdout",
          "text": [
            "\n"
          ]
        }
      ]
    },
    {
      "cell_type": "code",
      "source": [
        "# Everything below this point is testing\n",
        "\n",
        "test_sequence = generate_sequence(10)\n",
        "sequences = []\n",
        "\n",
        "for i in range(10):\n",
        "  sequences.append(mutate(test_sequence))\n",
        "\n",
        "print(test_sequence)\n",
        "for sequence in sequences:\n",
        "  print(sequence)"
      ],
      "metadata": {
        "colab": {
          "base_uri": "https://localhost:8080/"
        },
        "id": "nkd1sAnACpcC",
        "outputId": "9d951a66-aca0-41f8-e765-3eddfa2aa7f4"
      },
      "execution_count": 14,
      "outputs": [
        {
          "output_type": "stream",
          "name": "stdout",
          "text": [
            "CCGTCGCCTC\n",
            "CCTTCGCCCTC\n",
            "CCGCGCCTC\n",
            "CTTCACC\n",
            "CCGTCGCCACC\n",
            "CGGTCGCCTCT\n",
            "CCGTCACCTC\n",
            "CCGTCGCTC\n",
            "CGTCGCCTCTC\n",
            "CCGTCGACTC\n",
            "CCGTCCCTC\n"
          ]
        }
      ]
    },
    {
      "cell_type": "code",
      "source": [
        "consensusSequence = partialOrderAlignment(sequences)\n",
        "\n",
        "compressedSequences = compressSequences(sequences)\n",
        "compressedConsensusSequence = partialOrderAlignment(compressedSequences[0])\n",
        "\n",
        "print('Consensus sequence:\\t\\t', consensusSequence)\n",
        "print('Compressed Consensus sequence:\\t', compressedConsensusSequence)"
      ],
      "metadata": {
        "colab": {
          "base_uri": "https://localhost:8080/"
        },
        "id": "VmnwXeYiF1xt",
        "outputId": "df6ab592-db9a-431a-b1f3-2ff4a2319508"
      },
      "execution_count": 15,
      "outputs": [
        {
          "output_type": "stream",
          "name": "stdout",
          "text": [
            "Consensus sequence:\t\t CCGTCGCCCTC\n",
            "Compressed Consensus sequence:\t CGTCGCTC\n"
          ]
        }
      ]
    },
    {
      "cell_type": "code",
      "source": [
        "alignedSequences = pairwiseAlignment(compressedSequences[0], compressedConsensusSequence)\n",
        "\n",
        "for (i, obj) in enumerate(alignedSequences):\n",
        "  print('Sequence', i, ': \\t\\t', obj[0])\n",
        "  print('Consensus Sequence: \\t', obj[1])\n",
        "  print('Score: ', obj[2])"
      ],
      "metadata": {
        "colab": {
          "base_uri": "https://localhost:8080/"
        },
        "id": "EXloupl9lTft",
        "outputId": "19f0d490-edb4-49ba-c631-dc5e0118f191"
      },
      "execution_count": 16,
      "outputs": [
        {
          "output_type": "stream",
          "name": "stdout",
          "text": [
            "Sequence 0 : \t\t CGTCGCTC\n",
            "Consensus Sequence: \t C-TCGCTC\n",
            "Score:  5\n",
            "Sequence 1 : \t\t CGTCGCTC\n",
            "Consensus Sequence: \t CG-CGCTC\n",
            "Score:  5\n",
            "Sequence 2 : \t\t CGTCGCTC\n",
            "Consensus Sequence: \t C-T--CAC\n",
            "Score:  -3\n",
            "Sequence 3 : \t\t CGTCGCTC\n",
            "Consensus Sequence: \t CGTCGCAC\n",
            "Score:  6\n",
            "Sequence 4 : \t\t CGTCGCTC-\n",
            "Consensus Sequence: \t CGTCGCTCT\n",
            "Score:  6\n",
            "Sequence 5 : \t\t CGTCGCTC\n",
            "Consensus Sequence: \t CGTCACTC\n",
            "Score:  6\n",
            "Sequence 6 : \t\t CGTCGCTC\n",
            "Consensus Sequence: \t CGTCGCTC\n",
            "Score:  8\n",
            "Sequence 7 : \t\t CGTCG--CTC\n",
            "Consensus Sequence: \t CGTCGCTCTC\n",
            "Score:  4\n",
            "Sequence 8 : \t\t CGTCG-CTC\n",
            "Consensus Sequence: \t CGTCGACTC\n",
            "Score:  6\n",
            "Sequence 9 : \t\t CGTCGCTC\n",
            "Consensus Sequence: \t CGT--CTC\n",
            "Score:  2\n"
          ]
        }
      ]
    }
  ]
}